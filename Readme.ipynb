{
 "cells": [
  {
   "cell_type": "markdown",
   "id": "f445f5e0",
   "metadata": {},
   "source": [
    "# Readme"
   ]
  },
  {
   "cell_type": "markdown",
   "id": "a5ff8b95",
   "metadata": {},
   "source": [
    "### Summary"
   ]
  },
  {
   "cell_type": "markdown",
   "id": "9f6aee5e",
   "metadata": {},
   "source": [
    "I will create a model that  evaluates a house’s characteristics that affect the price in the King County area.  "
   ]
  },
  {
   "cell_type": "markdown",
   "id": "159aad06",
   "metadata": {},
   "source": [
    "### Data"
   ]
  },
  {
   "cell_type": "markdown",
   "id": "4ea004ff",
   "metadata": {},
   "source": [
    "The data received is a data frame of characteristics about each house. Each characteristic is categorical or continuous data.  \n"
   ]
  },
  {
   "cell_type": "markdown",
   "id": "6a5d26f6",
   "metadata": {},
   "source": [
    "Categorical Data \n",
    " - Date the house was sold\n",
    " - Number of bedrooms\n",
    " - Number of bathroom\n",
    " - Number of floors\n",
    " - Having a waterfront\n",
    " - If the house has been viewed\n",
    " - The house condition\n",
    " - The overall grade of the house\n",
    " - Zipcode\n"
   ]
  },
  {
   "cell_type": "markdown",
   "id": "843caac6",
   "metadata": {},
   "source": [
    "Continuous Data\n",
    " - Price of the house\n",
    " - Square footage of the house\n",
    " - Square footage of the lot\n",
    " - Square footage of the house apart front he basement\n",
    " - Square footage of the basement\n",
    " - Square footage  living space of the  nearest 15 neighbors\n",
    " - Square footage land  of the nearest 15 neighbors\n"
   ]
  },
  {
   "cell_type": "markdown",
   "id": "704350ef",
   "metadata": {},
   "source": [
    "### Data Cleaning: Baseline Model"
   ]
  },
  {
   "cell_type": "markdown",
   "id": "5bc074bd",
   "metadata": {},
   "source": [
    "Clean data to fix missing values,  delete duplicates, and replacing date with the house’s month sold. "
   ]
  },
  {
   "cell_type": "markdown",
   "id": "2b27d501",
   "metadata": {},
   "source": [
    "The baseline model shows our initial accuracy of the model, and compare adjusted models to it. It  shows an intercept of 223800 and an r-squared of 0.692."
   ]
  },
  {
   "cell_type": "markdown",
   "id": "1db67211",
   "metadata": {},
   "source": [
    "This graph represents the accuracy of the models ability to predict final price."
   ]
  },
  {
   "cell_type": "markdown",
   "id": "b7eefba1",
   "metadata": {},
   "source": [
    "![image.png](img/baseline_pred.png)"
   ]
  },
  {
   "cell_type": "markdown",
   "id": "f48d25a5",
   "metadata": {},
   "source": [
    "### Filtering Data: Model 1"
   ]
  },
  {
   "cell_type": "markdown",
   "id": "6419ad2e",
   "metadata": {},
   "source": [
    "This model will be adjusted for outliers that can be extraneous info to accurately form a model. "
   ]
  },
  {
   "cell_type": "markdown",
   "id": "824e37aa",
   "metadata": {},
   "source": [
    "Filtered columns:\n",
    " - Bedrooms less than or equal to 7\n",
    " - Bathrooms between 1 and 5\n",
    " - Squarefoot lot less than 25,0000\n",
    " - Squarefoot above basement less than 4,000\n",
    " - Squarefoot basement less than 1,500\n",
    " - Squarefoot lot of 15 nearest houses, less than 60,000\n",
    " - Floors less than or equal to 3\n",
    " - Grade between 4 and 11"
   ]
  },
  {
   "cell_type": "markdown",
   "id": "172b5b62",
   "metadata": {},
   "source": [
    "Intercept is -4248000, R-squared is 0.664. Even though accuracy of the model has decresed, removing outliers in the data will help make more logical conclusions about the final model. "
   ]
  },
  {
   "cell_type": "markdown",
   "id": "52496c0b",
   "metadata": {},
   "source": [
    "This graph represents the accuracy of the models ability to predict final price."
   ]
  },
  {
   "cell_type": "markdown",
   "id": "b2864519",
   "metadata": {},
   "source": [
    "![image.png](img/model_1_pred.png)"
   ]
  },
  {
   "cell_type": "markdown",
   "id": "3dab10f6",
   "metadata": {},
   "source": [
    "### Categorical Variables: Model 2 "
   ]
  },
  {
   "cell_type": "markdown",
   "id": "4a62534a",
   "metadata": {},
   "source": [
    "For this model, taking into account the categorical variables. Each categorical variable is separated to represent a more detailed model for house attributes that affect the price. "
   ]
  },
  {
   "cell_type": "markdown",
   "id": "de3cfd6a",
   "metadata": {},
   "source": [
    "The intercept is at -8305000, and r-squared is .637. Though the accruacy for the model has decresed, this maybe due to each category being closely coorrelated. The model shows how each category effect the price increasing or decreasing the value of the house. An increase in bedrooms lead to a decrease in value while more bathrooms, a higher grade, and additional floors show an increase in value."
   ]
  },
  {
   "cell_type": "markdown",
   "id": "01bf4fad",
   "metadata": {},
   "source": [
    "This graph represents the accuracy of the models ability to predict final price."
   ]
  },
  {
   "cell_type": "markdown",
   "id": "92eb00cf",
   "metadata": {},
   "source": [
    "![image.png](img/model_2_pred.png)"
   ]
  },
  {
   "cell_type": "markdown",
   "id": "2c7a115f",
   "metadata": {},
   "source": [
    "### Geographic Sectors :Model 3"
   ]
  },
  {
   "cell_type": "markdown",
   "id": "44f2f99a",
   "metadata": {},
   "source": [
    "This model will separate the map into geographic sectors to show a difference in price depending on location. "
   ]
  },
  {
   "cell_type": "markdown",
   "id": "7a6865c2",
   "metadata": {},
   "source": [
    "The intercept is 44,550,000, and r-squared .721. Here can see the price effects between each sector. Sector 4 shows the largest increase while sector 2 shows a decrease in price. \n"
   ]
  },
  {
   "cell_type": "markdown",
   "id": "e0354afc",
   "metadata": {},
   "source": [
    "This graph represents the accuracy of the models ability to predict final price."
   ]
  },
  {
   "cell_type": "markdown",
   "id": "cc7b6d13",
   "metadata": {},
   "source": [
    "![image.png](img/geographic_sectors.png)"
   ]
  },
  {
   "cell_type": "markdown",
   "id": "07b779d1",
   "metadata": {},
   "source": [
    "![image.png](img/model_3_pred.png)"
   ]
  },
  {
   "cell_type": "markdown",
   "id": "2849911d",
   "metadata": {},
   "source": [
    "### Multicollinearity: Model 4"
   ]
  },
  {
   "cell_type": "markdown",
   "id": "1fa21927",
   "metadata": {},
   "source": [
    "This model will adjust for multicollinearity in order to account for high p-values. Droppped variables include:\n",
    " - Zipcode\n",
    " - Latitude\n",
    " - Longitude\n",
    " - Square footage above the basement\n",
    " - Square footage lot of nearest 15 houses\n",
    " - Dedrooms 2-4\n",
    " - Bathrooms 2-3\n",
    " - Grade 5-7\n",
    " - Sector 6"
   ]
  },
  {
   "cell_type": "markdown",
   "id": "4fb94f5c",
   "metadata": {},
   "source": [
    "This model shows an intercept of 1,268,000 and r-squared .709. Removing unnecessary and multi-colinear variables takes away from the models ability to generalize for all the houses. Although, without unnecessary and multi-colinear variables, the model has less interference between each variable, increasing variables independence to make a more sound model for predicting price. "
   ]
  },
  {
   "cell_type": "markdown",
   "id": "d3d7d8d0",
   "metadata": {},
   "source": [
    "This graph represents the accuracy of the models ability to predict final price."
   ]
  },
  {
   "cell_type": "markdown",
   "id": "c021b12c",
   "metadata": {},
   "source": [
    "![image.png](img/model_4_pred.png)"
   ]
  },
  {
   "cell_type": "markdown",
   "id": "f59daa61",
   "metadata": {},
   "source": [
    "## Conclusion"
   ]
  },
  {
   "cell_type": "markdown",
   "id": "1b3f94a7",
   "metadata": {},
   "source": [
    "The final model is more limited predicting price than previous models since there are some variables  removed, but its predictions are more plausible with removing multicollinearity indicators.  With p-values < .01, each variable is independently able to predict the final price."
   ]
  }
 ],
 "metadata": {
  "kernelspec": {
   "display_name": "Python 3",
   "language": "python",
   "name": "python3"
  },
  "language_info": {
   "codemirror_mode": {
    "name": "ipython",
    "version": 3
   },
   "file_extension": ".py",
   "mimetype": "text/x-python",
   "name": "python",
   "nbconvert_exporter": "python",
   "pygments_lexer": "ipython3",
   "version": "3.8.8"
  }
 },
 "nbformat": 4,
 "nbformat_minor": 5
}
