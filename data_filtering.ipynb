{
 "cells": [
  {
   "cell_type": "markdown",
   "id": "5b3a2fe2",
   "metadata": {},
   "source": [
    "# Filtering Data"
   ]
  },
  {
   "cell_type": "code",
   "execution_count": 1,
   "id": "55b513d7",
   "metadata": {},
   "outputs": [],
   "source": [
    "import pandas as pd\n",
    "import seaborn as sns"
   ]
  },
  {
   "cell_type": "code",
   "execution_count": 2,
   "id": "fc76ab9e",
   "metadata": {},
   "outputs": [],
   "source": [
    "df= pd.read_csv(\"clean_df.csv\")"
   ]
  },
  {
   "cell_type": "code",
   "execution_count": 3,
   "id": "a316ad70",
   "metadata": {},
   "outputs": [],
   "source": [
    "df.drop(columns=['Unnamed: 0'], inplace=True, axis=1)"
   ]
  },
  {
   "cell_type": "markdown",
   "id": "52cd98eb",
   "metadata": {},
   "source": [
    "## Bedrooms"
   ]
  },
  {
   "cell_type": "code",
   "execution_count": 4,
   "id": "b9b21700",
   "metadata": {},
   "outputs": [
    {
     "data": {
      "text/plain": [
       "3     9731\n",
       "4     6849\n",
       "2     2736\n",
       "5     1586\n",
       "6      265\n",
       "1      191\n",
       "7       38\n",
       "8       13\n",
       "9        6\n",
       "10       3\n",
       "33       1\n",
       "11       1\n",
       "Name: bedrooms, dtype: int64"
      ]
     },
     "execution_count": 4,
     "metadata": {},
     "output_type": "execute_result"
    }
   ],
   "source": [
    "df.bedrooms.value_counts()"
   ]
  },
  {
   "cell_type": "code",
   "execution_count": 5,
   "id": "56a3828c",
   "metadata": {},
   "outputs": [
    {
     "data": {
      "text/plain": [
       "0"
      ]
     },
     "execution_count": 5,
     "metadata": {},
     "output_type": "execute_result"
    }
   ],
   "source": [
    "df.bedrooms.isna().sum()"
   ]
  },
  {
   "cell_type": "code",
   "execution_count": 6,
   "id": "c1b478e5",
   "metadata": {},
   "outputs": [
    {
     "data": {
      "text/plain": [
       "3    9731\n",
       "4    6849\n",
       "2    2736\n",
       "5    1586\n",
       "6     265\n",
       "1     191\n",
       "7      38\n",
       "Name: bedrooms, dtype: int64"
      ]
     },
     "execution_count": 6,
     "metadata": {},
     "output_type": "execute_result"
    }
   ],
   "source": [
    "# Bedrooms less than 7. \n",
    "df = df[df['bedrooms'] <= 7]\n",
    "df.bedrooms.value_counts()"
   ]
  },
  {
   "cell_type": "code",
   "execution_count": 7,
   "id": "63a7edac",
   "metadata": {},
   "outputs": [
    {
     "data": {
      "image/png": "[encoded data removed]",
      "text/plain": [
       "<Figure size 360x360 with 1 Axes>"
      ]
     },
     "metadata": {
      "needs_background": "light"
     },
     "output_type": "display_data"
    }
   ],
   "source": [
    "sns.displot(df, x='bedrooms', kde=True);"
   ]
  },
  {
   "cell_type": "code",
   "execution_count": 8,
   "id": "622dde36",
   "metadata": {},
   "outputs": [
    {
     "name": "stdout",
     "output_type": "stream",
     "text": [
      "<class 'pandas.core.frame.DataFrame'>\n",
      "Int64Index: 21396 entries, 0 to 21419\n",
      "Data columns (total 19 columns):\n",
      " #   Column         Non-Null Count  Dtype  \n",
      "---  ------         --------------  -----  \n",
      " 0   id             21396 non-null  int64  \n",
      " 1   price          21396 non-null  float64\n",
      " 2   bedrooms       21396 non-null  int64  \n",
      " 3   bathrooms      21396 non-null  float64\n",
      " 4   sqft_living    21396 non-null  int64  \n",
      " 5   sqft_lot       21396 non-null  int64  \n",
      " 6   floors         21396 non-null  float64\n",
      " 7   waterfront     21396 non-null  int64  \n",
      " 8   condition      21396 non-null  int64  \n",
      " 9   grade          21396 non-null  int64  \n",
      " 10  sqft_above     21396 non-null  int64  \n",
      " 11  sqft_basement  21396 non-null  float64\n",
      " 12  yr_built       21396 non-null  int64  \n",
      " 13  zipcode        21396 non-null  int64  \n",
      " 14  lat            21396 non-null  float64\n",
      " 15  long           21396 non-null  float64\n",
      " 16  sqft_living15  21396 non-null  int64  \n",
      " 17  sqft_lot15     21396 non-null  int64  \n",
      " 18  month          21396 non-null  int64  \n",
      "dtypes: float64(6), int64(13)\n",
      "memory usage: 3.3 MB\n"
     ]
    }
   ],
   "source": [
    "df.info()"
   ]
  },
  {
   "cell_type": "markdown",
   "id": "964c46de",
   "metadata": {},
   "source": [
    "## Bathrooms"
   ]
  },
  {
   "cell_type": "code",
   "execution_count": 9,
   "id": "be7da54e",
   "metadata": {},
   "outputs": [
    {
     "data": {
      "text/plain": [
       "2.50    5351\n",
       "1.00    3794\n",
       "1.75    3019\n",
       "2.25    2031\n",
       "2.00    1912\n",
       "1.50    1429\n",
       "2.75    1179\n",
       "3.00     741\n",
       "3.50     728\n",
       "3.25     585\n",
       "3.75     154\n",
       "4.00     131\n",
       "4.50      97\n",
       "4.25      79\n",
       "0.75      70\n",
       "4.75      23\n",
       "5.00      20\n",
       "5.25      12\n",
       "5.50      10\n",
       "1.25       9\n",
       "6.00       5\n",
       "5.75       4\n",
       "0.50       4\n",
       "6.25       2\n",
       "8.00       2\n",
       "6.75       2\n",
       "6.50       2\n",
       "7.75       1\n",
       "Name: bathrooms, dtype: int64"
      ]
     },
     "execution_count": 9,
     "metadata": {},
     "output_type": "execute_result"
    }
   ],
   "source": [
    "df.bathrooms.value_counts()"
   ]
  },
  {
   "cell_type": "code",
   "execution_count": 10,
   "id": "af4b35bd",
   "metadata": {},
   "outputs": [
    {
     "data": {
      "text/plain": [
       "0"
      ]
     },
     "execution_count": 10,
     "metadata": {},
     "output_type": "execute_result"
    }
   ],
   "source": [
    "df.bathrooms.isna().sum()"
   ]
  },
  {
   "cell_type": "code",
   "execution_count": 11,
   "id": "c5d65039",
   "metadata": {},
   "outputs": [
    {
     "data": {
      "image/png": "[encoded data removed]",
      "text/plain": [
       "<Figure size 360x360 with 1 Axes>"
      ]
     },
     "metadata": {
      "needs_background": "light"
     },
     "output_type": "display_data"
    }
   ],
   "source": [
    "sns.displot(df, x='bathrooms', kde=True);"
   ]
  },
  {
   "cell_type": "code",
   "execution_count": 12,
   "id": "ed833b9b",
   "metadata": {},
   "outputs": [
    {
     "data": {
      "text/plain": [
       "2.50    5351\n",
       "1.00    3794\n",
       "1.75    3019\n",
       "2.25    2031\n",
       "2.00    1912\n",
       "1.50    1429\n",
       "2.75    1179\n",
       "3.00     741\n",
       "3.50     728\n",
       "3.25     585\n",
       "3.75     154\n",
       "4.00     131\n",
       "4.50      97\n",
       "4.25      79\n",
       "4.75      23\n",
       "5.00      20\n",
       "1.25       9\n",
       "Name: bathrooms, dtype: int64"
      ]
     },
     "execution_count": 12,
     "metadata": {},
     "output_type": "execute_result"
    }
   ],
   "source": [
    "df = df[(df.bathrooms >= 1) & (df.bathrooms <= 5)  ]\n",
    "df.bathrooms.value_counts()"
   ]
  },
  {
   "cell_type": "code",
   "execution_count": 13,
   "id": "8c8923e6",
   "metadata": {},
   "outputs": [
    {
     "data": {
      "image/png": "[encoded data removed]",
      "text/plain": [
       "<Figure size 360x360 with 1 Axes>"
      ]
     },
     "metadata": {
      "needs_background": "light"
     },
     "output_type": "display_data"
    }
   ],
   "source": [
    "sns.displot(df, x='bathrooms', kde=True);"
   ]
  },
  {
   "cell_type": "code",
   "execution_count": 14,
   "id": "d50e29f2",
   "metadata": {},
   "outputs": [
    {
     "name": "stdout",
     "output_type": "stream",
     "text": [
      "<class 'pandas.core.frame.DataFrame'>\n",
      "Int64Index: 21282 entries, 0 to 21418\n",
      "Data columns (total 19 columns):\n",
      " #   Column         Non-Null Count  Dtype  \n",
      "---  ------         --------------  -----  \n",
      " 0   id             21282 non-null  int64  \n",
      " 1   price          21282 non-null  float64\n",
      " 2   bedrooms       21282 non-null  int64  \n",
      " 3   bathrooms      21282 non-null  float64\n",
      " 4   sqft_living    21282 non-null  int64  \n",
      " 5   sqft_lot       21282 non-null  int64  \n",
      " 6   floors         21282 non-null  float64\n",
      " 7   waterfront     21282 non-null  int64  \n",
      " 8   condition      21282 non-null  int64  \n",
      " 9   grade          21282 non-null  int64  \n",
      " 10  sqft_above     21282 non-null  int64  \n",
      " 11  sqft_basement  21282 non-null  float64\n",
      " 12  yr_built       21282 non-null  int64  \n",
      " 13  zipcode        21282 non-null  int64  \n",
      " 14  lat            21282 non-null  float64\n",
      " 15  long           21282 non-null  float64\n",
      " 16  sqft_living15  21282 non-null  int64  \n",
      " 17  sqft_lot15     21282 non-null  int64  \n",
      " 18  month          21282 non-null  int64  \n",
      "dtypes: float64(6), int64(13)\n",
      "memory usage: 3.2 MB\n"
     ]
    }
   ],
   "source": [
    "df.info()"
   ]
  },
  {
   "cell_type": "markdown",
   "id": "47f3db5a",
   "metadata": {},
   "source": [
    "## Sqft_lot"
   ]
  },
  {
   "cell_type": "code",
   "execution_count": 15,
   "id": "35a9b28b",
   "metadata": {},
   "outputs": [
    {
     "data": {
      "text/plain": [
       "5000     354\n",
       "6000     285\n",
       "4000     247\n",
       "7200     217\n",
       "7500     117\n",
       "        ... \n",
       "4996       1\n",
       "15233      1\n",
       "13184      1\n",
       "2935       1\n",
       "36862      1\n",
       "Name: sqft_lot, Length: 9722, dtype: int64"
      ]
     },
     "execution_count": 15,
     "metadata": {},
     "output_type": "execute_result"
    }
   ],
   "source": [
    "df.sqft_lot.value_counts()"
   ]
  },
  {
   "cell_type": "code",
   "execution_count": 16,
   "id": "dd9fd589",
   "metadata": {},
   "outputs": [
    {
     "data": {
      "text/plain": [
       "0"
      ]
     },
     "execution_count": 16,
     "metadata": {},
     "output_type": "execute_result"
    }
   ],
   "source": [
    "df.sqft_lot.isna().sum()"
   ]
  },
  {
   "cell_type": "code",
   "execution_count": 17,
   "id": "e3791b29",
   "metadata": {},
   "outputs": [
    {
     "data": {
      "text/plain": [
       "count    2.128200e+04\n",
       "mean     1.500300e+04\n",
       "std      4.100364e+04\n",
       "min      5.200000e+02\n",
       "25%      5.040000e+03\n",
       "50%      7.601000e+03\n",
       "75%      1.063600e+04\n",
       "max      1.651359e+06\n",
       "Name: sqft_lot, dtype: float64"
      ]
     },
     "execution_count": 17,
     "metadata": {},
     "output_type": "execute_result"
    }
   ],
   "source": [
    "df.sqft_lot.describe()"
   ]
  },
  {
   "cell_type": "code",
   "execution_count": 18,
   "id": "04c04ecd",
   "metadata": {},
   "outputs": [
    {
     "data": {
      "image/png": "[encoded data removed]",
      "text/plain": [
       "<Figure size 360x360 with 1 Axes>"
      ]
     },
     "metadata": {
      "needs_background": "light"
     },
     "output_type": "display_data"
    }
   ],
   "source": [
    "sns.displot(df, x='sqft_lot', kde=True);"
   ]
  },
  {
   "cell_type": "code",
   "execution_count": 19,
   "id": "769dc9a7",
   "metadata": {},
   "outputs": [],
   "source": [
    "df = df[df.sqft_lot < 250000]"
   ]
  },
  {
   "cell_type": "code",
   "execution_count": 20,
   "id": "71e59cf3",
   "metadata": {},
   "outputs": [
    {
     "name": "stdout",
     "output_type": "stream",
     "text": [
      "<class 'pandas.core.frame.DataFrame'>\n",
      "Int64Index: 21180 entries, 0 to 21418\n",
      "Data columns (total 19 columns):\n",
      " #   Column         Non-Null Count  Dtype  \n",
      "---  ------         --------------  -----  \n",
      " 0   id             21180 non-null  int64  \n",
      " 1   price          21180 non-null  float64\n",
      " 2   bedrooms       21180 non-null  int64  \n",
      " 3   bathrooms      21180 non-null  float64\n",
      " 4   sqft_living    21180 non-null  int64  \n",
      " 5   sqft_lot       21180 non-null  int64  \n",
      " 6   floors         21180 non-null  float64\n",
      " 7   waterfront     21180 non-null  int64  \n",
      " 8   condition      21180 non-null  int64  \n",
      " 9   grade          21180 non-null  int64  \n",
      " 10  sqft_above     21180 non-null  int64  \n",
      " 11  sqft_basement  21180 non-null  float64\n",
      " 12  yr_built       21180 non-null  int64  \n",
      " 13  zipcode        21180 non-null  int64  \n",
      " 14  lat            21180 non-null  float64\n",
      " 15  long           21180 non-null  float64\n",
      " 16  sqft_living15  21180 non-null  int64  \n",
      " 17  sqft_lot15     21180 non-null  int64  \n",
      " 18  month          21180 non-null  int64  \n",
      "dtypes: float64(6), int64(13)\n",
      "memory usage: 3.2 MB\n"
     ]
    }
   ],
   "source": [
    "df.info()"
   ]
  },
  {
   "cell_type": "markdown",
   "id": "d56d5c5e",
   "metadata": {},
   "source": [
    "## Sqft_above"
   ]
  },
  {
   "cell_type": "code",
   "execution_count": 21,
   "id": "6177c55d",
   "metadata": {},
   "outputs": [],
   "source": [
    "df = df[df.sqft_above<4000]"
   ]
  },
  {
   "cell_type": "markdown",
   "id": "925cdbf8",
   "metadata": {},
   "source": [
    "## Sqft_basement"
   ]
  },
  {
   "cell_type": "code",
   "execution_count": 22,
   "id": "441b4f3f",
   "metadata": {},
   "outputs": [],
   "source": [
    "df = df[df.sqft_basement<1500]"
   ]
  },
  {
   "cell_type": "code",
   "execution_count": 23,
   "id": "50e73935",
   "metadata": {},
   "outputs": [
    {
     "name": "stdout",
     "output_type": "stream",
     "text": [
      "<class 'pandas.core.frame.DataFrame'>\n",
      "Int64Index: 20483 entries, 0 to 21418\n",
      "Data columns (total 19 columns):\n",
      " #   Column         Non-Null Count  Dtype  \n",
      "---  ------         --------------  -----  \n",
      " 0   id             20483 non-null  int64  \n",
      " 1   price          20483 non-null  float64\n",
      " 2   bedrooms       20483 non-null  int64  \n",
      " 3   bathrooms      20483 non-null  float64\n",
      " 4   sqft_living    20483 non-null  int64  \n",
      " 5   sqft_lot       20483 non-null  int64  \n",
      " 6   floors         20483 non-null  float64\n",
      " 7   waterfront     20483 non-null  int64  \n",
      " 8   condition      20483 non-null  int64  \n",
      " 9   grade          20483 non-null  int64  \n",
      " 10  sqft_above     20483 non-null  int64  \n",
      " 11  sqft_basement  20483 non-null  float64\n",
      " 12  yr_built       20483 non-null  int64  \n",
      " 13  zipcode        20483 non-null  int64  \n",
      " 14  lat            20483 non-null  float64\n",
      " 15  long           20483 non-null  float64\n",
      " 16  sqft_living15  20483 non-null  int64  \n",
      " 17  sqft_lot15     20483 non-null  int64  \n",
      " 18  month          20483 non-null  int64  \n",
      "dtypes: float64(6), int64(13)\n",
      "memory usage: 3.1 MB\n"
     ]
    }
   ],
   "source": [
    "df.info()"
   ]
  },
  {
   "cell_type": "markdown",
   "id": "a782ce8f",
   "metadata": {},
   "source": [
    "## Sqft_lot15"
   ]
  },
  {
   "cell_type": "code",
   "execution_count": 24,
   "id": "8b7e3944",
   "metadata": {},
   "outputs": [],
   "source": [
    "df = df[df.sqft_lot15<60000]"
   ]
  },
  {
   "cell_type": "code",
   "execution_count": 25,
   "id": "d48d68d0",
   "metadata": {},
   "outputs": [
    {
     "name": "stdout",
     "output_type": "stream",
     "text": [
      "<class 'pandas.core.frame.DataFrame'>\n",
      "Int64Index: 20086 entries, 0 to 21418\n",
      "Data columns (total 19 columns):\n",
      " #   Column         Non-Null Count  Dtype  \n",
      "---  ------         --------------  -----  \n",
      " 0   id             20086 non-null  int64  \n",
      " 1   price          20086 non-null  float64\n",
      " 2   bedrooms       20086 non-null  int64  \n",
      " 3   bathrooms      20086 non-null  float64\n",
      " 4   sqft_living    20086 non-null  int64  \n",
      " 5   sqft_lot       20086 non-null  int64  \n",
      " 6   floors         20086 non-null  float64\n",
      " 7   waterfront     20086 non-null  int64  \n",
      " 8   condition      20086 non-null  int64  \n",
      " 9   grade          20086 non-null  int64  \n",
      " 10  sqft_above     20086 non-null  int64  \n",
      " 11  sqft_basement  20086 non-null  float64\n",
      " 12  yr_built       20086 non-null  int64  \n",
      " 13  zipcode        20086 non-null  int64  \n",
      " 14  lat            20086 non-null  float64\n",
      " 15  long           20086 non-null  float64\n",
      " 16  sqft_living15  20086 non-null  int64  \n",
      " 17  sqft_lot15     20086 non-null  int64  \n",
      " 18  month          20086 non-null  int64  \n",
      "dtypes: float64(6), int64(13)\n",
      "memory usage: 3.1 MB\n"
     ]
    }
   ],
   "source": [
    "df.info()"
   ]
  },
  {
   "cell_type": "code",
   "execution_count": 26,
   "id": "43eebed5",
   "metadata": {},
   "outputs": [
    {
     "data": {
      "image/png": "[encoded data removed]",
      "text/plain": [
       "<Figure size 360x360 with 1 Axes>"
      ]
     },
     "metadata": {
      "needs_background": "light"
     },
     "output_type": "display_data"
    }
   ],
   "source": [
    "sns.displot(df, x='sqft_lot15', kde=True);"
   ]
  },
  {
   "cell_type": "markdown",
   "id": "3dcf1ffe",
   "metadata": {},
   "source": [
    "## Floors"
   ]
  },
  {
   "cell_type": "code",
   "execution_count": 27,
   "id": "a54830bb",
   "metadata": {},
   "outputs": [
    {
     "data": {
      "text/plain": [
       "0"
      ]
     },
     "execution_count": 27,
     "metadata": {},
     "output_type": "execute_result"
    }
   ],
   "source": [
    "df.floors.isna().sum()"
   ]
  },
  {
   "cell_type": "code",
   "execution_count": 28,
   "id": "cc6ef711",
   "metadata": {},
   "outputs": [
    {
     "data": {
      "text/html": [
       "<div>\n",
       "<style scoped>\n",
       "    .dataframe tbody tr th:only-of-type {\n",
       "        vertical-align: middle;\n",
       "    }\n",
       "\n",
       "    .dataframe tbody tr th {\n",
       "        vertical-align: top;\n",
       "    }\n",
       "\n",
       "    .dataframe thead th {\n",
       "        text-align: right;\n",
       "    }\n",
       "</style>\n",
       "<table border=\"1\" class=\"dataframe\">\n",
       "  <thead>\n",
       "    <tr style=\"text-align: right;\">\n",
       "      <th></th>\n",
       "      <th>id</th>\n",
       "      <th>price</th>\n",
       "      <th>bedrooms</th>\n",
       "      <th>bathrooms</th>\n",
       "      <th>sqft_living</th>\n",
       "      <th>sqft_lot</th>\n",
       "      <th>floors</th>\n",
       "      <th>waterfront</th>\n",
       "      <th>condition</th>\n",
       "      <th>grade</th>\n",
       "      <th>sqft_above</th>\n",
       "      <th>sqft_basement</th>\n",
       "      <th>yr_built</th>\n",
       "      <th>zipcode</th>\n",
       "      <th>lat</th>\n",
       "      <th>long</th>\n",
       "      <th>sqft_living15</th>\n",
       "      <th>sqft_lot15</th>\n",
       "      <th>month</th>\n",
       "    </tr>\n",
       "  </thead>\n",
       "  <tbody>\n",
       "    <tr>\n",
       "      <th>31</th>\n",
       "      <td>2426039314</td>\n",
       "      <td>280000.0</td>\n",
       "      <td>2</td>\n",
       "      <td>1.50</td>\n",
       "      <td>1190</td>\n",
       "      <td>1265</td>\n",
       "      <td>3.0</td>\n",
       "      <td>0</td>\n",
       "      <td>3</td>\n",
       "      <td>7</td>\n",
       "      <td>1190</td>\n",
       "      <td>0.0</td>\n",
       "      <td>2005</td>\n",
       "      <td>98133</td>\n",
       "      <td>47.7274</td>\n",
       "      <td>-122.357</td>\n",
       "      <td>1390</td>\n",
       "      <td>1756</td>\n",
       "      <td>12</td>\n",
       "    </tr>\n",
       "    <tr>\n",
       "      <th>63</th>\n",
       "      <td>9528102996</td>\n",
       "      <td>549000.0</td>\n",
       "      <td>3</td>\n",
       "      <td>1.75</td>\n",
       "      <td>1540</td>\n",
       "      <td>1044</td>\n",
       "      <td>3.0</td>\n",
       "      <td>0</td>\n",
       "      <td>3</td>\n",
       "      <td>8</td>\n",
       "      <td>1540</td>\n",
       "      <td>0.0</td>\n",
       "      <td>2014</td>\n",
       "      <td>98115</td>\n",
       "      <td>47.6765</td>\n",
       "      <td>-122.320</td>\n",
       "      <td>1580</td>\n",
       "      <td>3090</td>\n",
       "      <td>12</td>\n",
       "    </tr>\n",
       "    <tr>\n",
       "      <th>115</th>\n",
       "      <td>3362400431</td>\n",
       "      <td>518500.0</td>\n",
       "      <td>3</td>\n",
       "      <td>3.50</td>\n",
       "      <td>1590</td>\n",
       "      <td>1102</td>\n",
       "      <td>3.0</td>\n",
       "      <td>0</td>\n",
       "      <td>3</td>\n",
       "      <td>8</td>\n",
       "      <td>1590</td>\n",
       "      <td>0.0</td>\n",
       "      <td>2010</td>\n",
       "      <td>98103</td>\n",
       "      <td>47.6824</td>\n",
       "      <td>-122.347</td>\n",
       "      <td>1620</td>\n",
       "      <td>3166</td>\n",
       "      <td>6</td>\n",
       "    </tr>\n",
       "    <tr>\n",
       "      <th>133</th>\n",
       "      <td>2767602356</td>\n",
       "      <td>675000.0</td>\n",
       "      <td>4</td>\n",
       "      <td>3.50</td>\n",
       "      <td>2140</td>\n",
       "      <td>2278</td>\n",
       "      <td>3.0</td>\n",
       "      <td>0</td>\n",
       "      <td>3</td>\n",
       "      <td>9</td>\n",
       "      <td>2140</td>\n",
       "      <td>0.0</td>\n",
       "      <td>2005</td>\n",
       "      <td>98107</td>\n",
       "      <td>47.6734</td>\n",
       "      <td>-122.380</td>\n",
       "      <td>1540</td>\n",
       "      <td>2285</td>\n",
       "      <td>1</td>\n",
       "    </tr>\n",
       "    <tr>\n",
       "      <th>138</th>\n",
       "      <td>2767603505</td>\n",
       "      <td>519950.0</td>\n",
       "      <td>3</td>\n",
       "      <td>2.25</td>\n",
       "      <td>1170</td>\n",
       "      <td>1249</td>\n",
       "      <td>3.0</td>\n",
       "      <td>0</td>\n",
       "      <td>3</td>\n",
       "      <td>8</td>\n",
       "      <td>1170</td>\n",
       "      <td>0.0</td>\n",
       "      <td>2014</td>\n",
       "      <td>98107</td>\n",
       "      <td>47.6722</td>\n",
       "      <td>-122.381</td>\n",
       "      <td>1350</td>\n",
       "      <td>1310</td>\n",
       "      <td>5</td>\n",
       "    </tr>\n",
       "    <tr>\n",
       "      <th>...</th>\n",
       "      <td>...</td>\n",
       "      <td>...</td>\n",
       "      <td>...</td>\n",
       "      <td>...</td>\n",
       "      <td>...</td>\n",
       "      <td>...</td>\n",
       "      <td>...</td>\n",
       "      <td>...</td>\n",
       "      <td>...</td>\n",
       "      <td>...</td>\n",
       "      <td>...</td>\n",
       "      <td>...</td>\n",
       "      <td>...</td>\n",
       "      <td>...</td>\n",
       "      <td>...</td>\n",
       "      <td>...</td>\n",
       "      <td>...</td>\n",
       "      <td>...</td>\n",
       "      <td>...</td>\n",
       "    </tr>\n",
       "    <tr>\n",
       "      <th>21399</th>\n",
       "      <td>1931300412</td>\n",
       "      <td>475000.0</td>\n",
       "      <td>3</td>\n",
       "      <td>2.25</td>\n",
       "      <td>1190</td>\n",
       "      <td>1200</td>\n",
       "      <td>3.0</td>\n",
       "      <td>0</td>\n",
       "      <td>3</td>\n",
       "      <td>8</td>\n",
       "      <td>1190</td>\n",
       "      <td>0.0</td>\n",
       "      <td>2008</td>\n",
       "      <td>98103</td>\n",
       "      <td>47.6542</td>\n",
       "      <td>-122.346</td>\n",
       "      <td>1180</td>\n",
       "      <td>1224</td>\n",
       "      <td>4</td>\n",
       "    </tr>\n",
       "    <tr>\n",
       "      <th>21402</th>\n",
       "      <td>1972201967</td>\n",
       "      <td>520000.0</td>\n",
       "      <td>2</td>\n",
       "      <td>2.25</td>\n",
       "      <td>1530</td>\n",
       "      <td>981</td>\n",
       "      <td>3.0</td>\n",
       "      <td>0</td>\n",
       "      <td>3</td>\n",
       "      <td>8</td>\n",
       "      <td>1480</td>\n",
       "      <td>50.0</td>\n",
       "      <td>2006</td>\n",
       "      <td>98103</td>\n",
       "      <td>47.6533</td>\n",
       "      <td>-122.346</td>\n",
       "      <td>1530</td>\n",
       "      <td>1282</td>\n",
       "      <td>10</td>\n",
       "    </tr>\n",
       "    <tr>\n",
       "      <th>21408</th>\n",
       "      <td>5100403806</td>\n",
       "      <td>467000.0</td>\n",
       "      <td>3</td>\n",
       "      <td>2.50</td>\n",
       "      <td>1425</td>\n",
       "      <td>1179</td>\n",
       "      <td>3.0</td>\n",
       "      <td>0</td>\n",
       "      <td>3</td>\n",
       "      <td>8</td>\n",
       "      <td>1425</td>\n",
       "      <td>0.0</td>\n",
       "      <td>2008</td>\n",
       "      <td>98125</td>\n",
       "      <td>47.6963</td>\n",
       "      <td>-122.318</td>\n",
       "      <td>1285</td>\n",
       "      <td>1253</td>\n",
       "      <td>4</td>\n",
       "    </tr>\n",
       "    <tr>\n",
       "      <th>21411</th>\n",
       "      <td>9834201367</td>\n",
       "      <td>429000.0</td>\n",
       "      <td>3</td>\n",
       "      <td>2.00</td>\n",
       "      <td>1490</td>\n",
       "      <td>1126</td>\n",
       "      <td>3.0</td>\n",
       "      <td>0</td>\n",
       "      <td>3</td>\n",
       "      <td>8</td>\n",
       "      <td>1490</td>\n",
       "      <td>0.0</td>\n",
       "      <td>2014</td>\n",
       "      <td>98144</td>\n",
       "      <td>47.5699</td>\n",
       "      <td>-122.288</td>\n",
       "      <td>1400</td>\n",
       "      <td>1230</td>\n",
       "      <td>1</td>\n",
       "    </tr>\n",
       "    <tr>\n",
       "      <th>21415</th>\n",
       "      <td>263000018</td>\n",
       "      <td>360000.0</td>\n",
       "      <td>3</td>\n",
       "      <td>2.50</td>\n",
       "      <td>1530</td>\n",
       "      <td>1131</td>\n",
       "      <td>3.0</td>\n",
       "      <td>0</td>\n",
       "      <td>3</td>\n",
       "      <td>8</td>\n",
       "      <td>1530</td>\n",
       "      <td>0.0</td>\n",
       "      <td>2009</td>\n",
       "      <td>98103</td>\n",
       "      <td>47.6993</td>\n",
       "      <td>-122.346</td>\n",
       "      <td>1530</td>\n",
       "      <td>1509</td>\n",
       "      <td>5</td>\n",
       "    </tr>\n",
       "  </tbody>\n",
       "</table>\n",
       "<p>598 rows × 19 columns</p>\n",
       "</div>"
      ],
      "text/plain": [
       "               id     price  bedrooms  bathrooms  sqft_living  sqft_lot  \\\n",
       "31     2426039314  280000.0         2       1.50         1190      1265   \n",
       "63     9528102996  549000.0         3       1.75         1540      1044   \n",
       "115    3362400431  518500.0         3       3.50         1590      1102   \n",
       "133    2767602356  675000.0         4       3.50         2140      2278   \n",
       "138    2767603505  519950.0         3       2.25         1170      1249   \n",
       "...           ...       ...       ...        ...          ...       ...   \n",
       "21399  1931300412  475000.0         3       2.25         1190      1200   \n",
       "21402  1972201967  520000.0         2       2.25         1530       981   \n",
       "21408  5100403806  467000.0         3       2.50         1425      1179   \n",
       "21411  9834201367  429000.0         3       2.00         1490      1126   \n",
       "21415   263000018  360000.0         3       2.50         1530      1131   \n",
       "\n",
       "       floors  waterfront  condition  grade  sqft_above  sqft_basement  \\\n",
       "31        3.0           0          3      7        1190            0.0   \n",
       "63        3.0           0          3      8        1540            0.0   \n",
       "115       3.0           0          3      8        1590            0.0   \n",
       "133       3.0           0          3      9        2140            0.0   \n",
       "138       3.0           0          3      8        1170            0.0   \n",
       "...       ...         ...        ...    ...         ...            ...   \n",
       "21399     3.0           0          3      8        1190            0.0   \n",
       "21402     3.0           0          3      8        1480           50.0   \n",
       "21408     3.0           0          3      8        1425            0.0   \n",
       "21411     3.0           0          3      8        1490            0.0   \n",
       "21415     3.0           0          3      8        1530            0.0   \n",
       "\n",
       "       yr_built  zipcode      lat     long  sqft_living15  sqft_lot15  month  \n",
       "31         2005    98133  47.7274 -122.357           1390        1756     12  \n",
       "63         2014    98115  47.6765 -122.320           1580        3090     12  \n",
       "115        2010    98103  47.6824 -122.347           1620        3166      6  \n",
       "133        2005    98107  47.6734 -122.380           1540        2285      1  \n",
       "138        2014    98107  47.6722 -122.381           1350        1310      5  \n",
       "...         ...      ...      ...      ...            ...         ...    ...  \n",
       "21399      2008    98103  47.6542 -122.346           1180        1224      4  \n",
       "21402      2006    98103  47.6533 -122.346           1530        1282     10  \n",
       "21408      2008    98125  47.6963 -122.318           1285        1253      4  \n",
       "21411      2014    98144  47.5699 -122.288           1400        1230      1  \n",
       "21415      2009    98103  47.6993 -122.346           1530        1509      5  \n",
       "\n",
       "[598 rows x 19 columns]"
      ]
     },
     "execution_count": 28,
     "metadata": {},
     "output_type": "execute_result"
    }
   ],
   "source": [
    "df[df.floors>=3]"
   ]
  },
  {
   "cell_type": "code",
   "execution_count": 29,
   "id": "fcd2a1bc",
   "metadata": {},
   "outputs": [],
   "source": [
    "df = df[df.floors<=3]"
   ]
  },
  {
   "cell_type": "code",
   "execution_count": 30,
   "id": "003aad76",
   "metadata": {},
   "outputs": [
    {
     "data": {
      "image/png": "[encoded data removed]",
      "text/plain": [
       "<Figure size 360x360 with 1 Axes>"
      ]
     },
     "metadata": {
      "needs_background": "light"
     },
     "output_type": "display_data"
    }
   ],
   "source": [
    "sns.displot(df, x='floors', kde=True);"
   ]
  },
  {
   "cell_type": "markdown",
   "id": "2b501822",
   "metadata": {},
   "source": [
    "## Grade"
   ]
  },
  {
   "cell_type": "code",
   "execution_count": 31,
   "id": "97a0972c",
   "metadata": {},
   "outputs": [
    {
     "data": {
      "text/plain": [
       "0"
      ]
     },
     "execution_count": 31,
     "metadata": {},
     "output_type": "execute_result"
    }
   ],
   "source": [
    "df.grade.isna().sum()"
   ]
  },
  {
   "cell_type": "code",
   "execution_count": 32,
   "id": "3479102f",
   "metadata": {},
   "outputs": [
    {
     "data": {
      "text/plain": [
       "7     8662\n",
       "8     5810\n",
       "9     2374\n",
       "6     1927\n",
       "10     892\n",
       "5      206\n",
       "11     181\n",
       "4       14\n",
       "12      14\n",
       "Name: grade, dtype: int64"
      ]
     },
     "execution_count": 32,
     "metadata": {},
     "output_type": "execute_result"
    }
   ],
   "source": [
    "df.grade.value_counts()"
   ]
  },
  {
   "cell_type": "code",
   "execution_count": 33,
   "id": "b9761516",
   "metadata": {},
   "outputs": [
    {
     "data": {
      "image/png": "[encoded data removed]",
      "text/plain": [
       "<Figure size 360x360 with 1 Axes>"
      ]
     },
     "metadata": {
      "needs_background": "light"
     },
     "output_type": "display_data"
    }
   ],
   "source": [
    "sns.displot(df, x='grade', kde=True);"
   ]
  },
  {
   "cell_type": "code",
   "execution_count": 34,
   "id": "c384f4fe",
   "metadata": {},
   "outputs": [
    {
     "data": {
      "text/plain": [
       "19885"
      ]
     },
     "execution_count": 34,
     "metadata": {},
     "output_type": "execute_result"
    }
   ],
   "source": [
    "df = df[(df.grade>=4) & (df.grade < 11)]\n",
    "len(df)"
   ]
  },
  {
   "cell_type": "code",
   "execution_count": 35,
   "id": "fbb1c0a4",
   "metadata": {},
   "outputs": [
    {
     "data": {
      "image/png": "[encoded data removed]",
      "text/plain": [
       "<Figure size 360x360 with 1 Axes>"
      ]
     },
     "metadata": {
      "needs_background": "light"
     },
     "output_type": "display_data"
    }
   ],
   "source": [
    "sns.displot(df, x='grade', kde=True );"
   ]
  },
  {
   "cell_type": "code",
   "execution_count": 36,
   "id": "b015c03f",
   "metadata": {},
   "outputs": [
    {
     "name": "stdout",
     "output_type": "stream",
     "text": [
      "<class 'pandas.core.frame.DataFrame'>\n",
      "Int64Index: 19885 entries, 0 to 21418\n",
      "Data columns (total 19 columns):\n",
      " #   Column         Non-Null Count  Dtype  \n",
      "---  ------         --------------  -----  \n",
      " 0   id             19885 non-null  int64  \n",
      " 1   price          19885 non-null  float64\n",
      " 2   bedrooms       19885 non-null  int64  \n",
      " 3   bathrooms      19885 non-null  float64\n",
      " 4   sqft_living    19885 non-null  int64  \n",
      " 5   sqft_lot       19885 non-null  int64  \n",
      " 6   floors         19885 non-null  float64\n",
      " 7   waterfront     19885 non-null  int64  \n",
      " 8   condition      19885 non-null  int64  \n",
      " 9   grade          19885 non-null  int64  \n",
      " 10  sqft_above     19885 non-null  int64  \n",
      " 11  sqft_basement  19885 non-null  float64\n",
      " 12  yr_built       19885 non-null  int64  \n",
      " 13  zipcode        19885 non-null  int64  \n",
      " 14  lat            19885 non-null  float64\n",
      " 15  long           19885 non-null  float64\n",
      " 16  sqft_living15  19885 non-null  int64  \n",
      " 17  sqft_lot15     19885 non-null  int64  \n",
      " 18  month          19885 non-null  int64  \n",
      "dtypes: float64(6), int64(13)\n",
      "memory usage: 3.0 MB\n"
     ]
    }
   ],
   "source": [
    "df.info()"
   ]
  },
  {
   "cell_type": "code",
   "execution_count": 37,
   "id": "3d5547d2",
   "metadata": {},
   "outputs": [],
   "source": [
    "df.to_csv(\"filter_df.csv\")"
   ]
  },
  {
   "cell_type": "code",
   "execution_count": null,
   "id": "380a3eba",
   "metadata": {},
   "outputs": [],
   "source": []
  }
 ],
 "metadata": {
  "kernelspec": {
   "display_name": "Python 3",
   "language": "python",
   "name": "python3"
  },
  "language_info": {
   "codemirror_mode": {
    "name": "ipython",
    "version": 3
   },
   "file_extension": ".py",
   "mimetype": "text/x-python",
   "name": "python",
   "nbconvert_exporter": "python",
   "pygments_lexer": "ipython3",
   "version": "3.8.8"
  }
 },
 "nbformat": 4,
 "nbformat_minor": 5
}
